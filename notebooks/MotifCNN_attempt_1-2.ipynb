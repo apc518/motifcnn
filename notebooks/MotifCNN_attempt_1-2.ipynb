{
  "cells": [
    {
      "cell_type": "markdown",
      "metadata": {
        "id": "3K_HOlVLEGo_"
      },
      "source": [
        "### Load the Data\n",
        "\n",
        "upload a data set with file structure \n",
        "\n",
        "data/solo/positive and data/solo/negative\n",
        "\n",
        "then add empty data/spec/positive and\n",
        "data/spec/negative directories"
      ]
    },
    {
      "cell_type": "code",
      "execution_count": null,
      "metadata": {
        "id": "yIpby2SIBxKn"
      },
      "outputs": [],
      "source": [
        "# # Used to unzip a data set loaded to the drive\n",
        "# import zipfile\n",
        "\n",
        "# with zipfile.ZipFile(\"/content/drive/MyDrive/MotifGAN Capstone/combo_spec_1.zip\") as z:\n",
        "#   z.extractall()"
      ]
    },
    {
      "cell_type": "markdown",
      "metadata": {
        "id": "eh1TBjWmbR_d"
      },
      "source": [
        "### Data Augmentation"
      ]
    },
    {
      "cell_type": "code",
      "execution_count": null,
      "metadata": {},
      "outputs": [],
      "source": [
        "import os\n",
        "os.system(\"python3 augment.py\")"
      ]
    },
    {
      "cell_type": "markdown",
      "metadata": {
        "id": "yhCqSU7uoYny"
      },
      "source": [
        "### convert audio to spectograms\n"
      ]
    },
    {
      "cell_type": "code",
      "execution_count": null,
      "metadata": {},
      "outputs": [],
      "source": [
        "os.system(\"python3 create_spectrograms.py\")"
      ]
    },
    {
      "cell_type": "code",
      "execution_count": null,
      "metadata": {
        "colab": {
          "base_uri": "https://localhost:8080/",
          "height": 261
        },
        "id": "449xgkbgyQLo",
        "outputId": "d86e03e0-31da-4522-9cdb-4704b8f678af"
      },
      "outputs": [],
      "source": [
        "import random\n",
        "import matplotlib.pyplot as plt\n",
        "import matplotlib.image as mpimg\n",
        "\n",
        "img_name = random.choice(os.listdir('./data/spec/positive'))\n",
        "print(img_name)\n",
        "img = mpimg.imread(f'./data/spec/positive/{img_name}')\n",
        "plt.imshow(img)\n",
        "plt.show()"
      ]
    },
    {
      "cell_type": "markdown",
      "metadata": {
        "id": "58b_CBegPXoe"
      },
      "source": [
        "### create the dataset"
      ]
    },
    {
      "cell_type": "code",
      "execution_count": null,
      "metadata": {
        "id": "gxOjlqu9yGNC"
      },
      "outputs": [],
      "source": [
        "import tensorflow as tf"
      ]
    },
    {
      "cell_type": "code",
      "execution_count": null,
      "metadata": {
        "colab": {
          "base_uri": "https://localhost:8080/"
        },
        "id": "Dyh2MP5rPW1h",
        "outputId": "b6dd1458-5f68-42dd-b9d8-4f2ec706b60f"
      },
      "outputs": [],
      "source": [
        "# Load dataset from directory with keras\n",
        "\n",
        "# sometimes a directory called .ipynb_checkpoints is present, remove it if so\n",
        "if os.path.isdir('./data/spec/.ipynb_checkpoints'):\n",
        "  os.removedirs(\"./data/spec/.ipynb_checkpoints\")\n",
        "\n",
        "train_directory = './data/spec/'\n",
        "test_directory = './data/test/'\n",
        "batch_size = 16\n",
        "\n",
        "# Validation data needs to be specified at training now. \n",
        "train_ds = tf.keras.preprocessing.image_dataset_from_directory(\n",
        "    train_directory, labels='inferred', label_mode='int', batch_size=batch_size, \n",
        "    image_size=(360,225), seed=123, validation_split=0.2, subset=\"validation\")\n",
        "\n",
        "# test_ds = tf.keras.preprocessing.image_dataset_from_directory(\n",
        "#     test_directory, labels='inferred', label_mode='int', batch_size=batch_size,\n",
        "#     image_size=(360,225), seed=123)\n",
        "\n",
        "\n",
        "class_names = train_ds.class_names\n",
        "print(class_names)"
      ]
    },
    {
      "cell_type": "code",
      "execution_count": null,
      "metadata": {
        "colab": {
          "base_uri": "https://localhost:8080/",
          "height": 448
        },
        "id": "rNLI6LurQ5QD",
        "outputId": "c5872224-f117-4708-b4f3-6c15bd330505"
      },
      "outputs": [],
      "source": [
        "# Straight from the microsoft tutorial \n",
        "# shows the spectrograms with their labels\n",
        "plt.figure(figsize=(10, 10))\n",
        "for images, labels in train_ds.take(2):\n",
        "    for i in range(9):\n",
        "        ax = plt.subplot(3, 5, i + 1)\n",
        "        plt.imshow(images[i].numpy().astype(\"uint8\"))\n",
        "        plt.title(class_names[labels[i]])\n",
        "        plt.axis(\"off\")"
      ]
    },
    {
      "cell_type": "markdown",
      "metadata": {
        "id": "n7aX5O88ENuB"
      },
      "source": [
        "## ResNet-34 Model"
      ]
    },
    {
      "cell_type": "code",
      "execution_count": null,
      "metadata": {
        "id": "EnSRAGeqGymt"
      },
      "outputs": [],
      "source": [
        "from tensorflow import keras"
      ]
    },
    {
      "cell_type": "code",
      "execution_count": null,
      "metadata": {
        "id": "JnppUQh6Ea3Z"
      },
      "outputs": [],
      "source": [
        "class ResidualUnit(keras.layers.Layer):\n",
        "    def __init__(self, filters, strides=1, activation=\"relu\", **kwargs):\n",
        "        super().__init__(**kwargs)\n",
        "        self.activation = keras.activations.get(activation)\n",
        "        self.main_layers = [\n",
        "            keras.layers.Conv2D(filters, 3, strides=strides,\n",
        "                            padding=\"same\", use_bias=False),\n",
        "            keras.layers.BatchNormalization(),\n",
        "            self.activation,\n",
        "            keras.layers.Conv2D(filters, 3, strides=1,\n",
        "                            padding=\"same\", use_bias=False),\n",
        "            keras.layers.BatchNormalization()]\n",
        "        self.skip_layers = []\n",
        "        if strides > 1:\n",
        "            self.skip_layers = [\n",
        "                keras.layers.Conv2D(filters, 1, strides=strides,\n",
        "                                  padding=\"same\", use_bias=False),\n",
        "                keras.layers.BatchNormalization()]\n",
        "\n",
        "    def call(self, inputs):\n",
        "        Z = inputs\n",
        "        for layer in self.main_layers:\n",
        "            Z = layer(Z)\n",
        "        skip_Z = inputs\n",
        "        for layer in self.skip_layers:\n",
        "            skip_Z = layer(skip_Z)\n",
        "        return self.activation(Z + skip_Z)"
      ]
    },
    {
      "cell_type": "code",
      "execution_count": null,
      "metadata": {
        "id": "S_FMNlRAHAX3"
      },
      "outputs": [],
      "source": [
        "model = keras.models.Sequential()\n",
        "model.add(keras.layers.Conv2D(64, 7, strides=2, input_shape=[360, 225, 3],\n",
        "                              padding=\"same\", use_bias=False))\n",
        "model.add(keras.layers.BatchNormalization())\n",
        "model.add(keras.layers.Activation(\"relu\"))\n",
        "model.add(keras.layers.MaxPool2D(pool_size=3, strides=2, padding=\"same\"))\n",
        "prev_filter = 64\n",
        "for filters in [64]*3 + [128] * 4 + [256] * 6 + [512] * 3:\n",
        "    strides = 1 if filters == prev_filter else 2\n",
        "    model.add(ResidualUnit(filters, strides=strides))\n",
        "    prev_filters = filters\n",
        "#model.add(keras.layers.GlobalAvgPool2D())\n",
        "model.add(keras.layers.Flatten())\n",
        "model.add(keras.layers.Dense(2, activation=\"softmax\"))"
      ]
    },
    {
      "cell_type": "code",
      "execution_count": null,
      "metadata": {
        "colab": {
          "base_uri": "https://localhost:8080/"
        },
        "id": "dZAJuIhhIw95",
        "outputId": "b24440f7-73b4-4c21-d213-02a8a3c94c60"
      },
      "outputs": [],
      "source": [
        "learning_rate = 0.02\n",
        "\n",
        "loss_fn = tf.keras.losses.SparseCategoricalCrossentropy(from_logits=False)\n",
        "optimizer = tf.keras.optimizers.SGD(learning_rate)\n",
        "metrics = ['acc']\n",
        "model.compile(optimizer, loss_fn, metrics)\n",
        "#model.summary()"
      ]
    },
    {
      "cell_type": "code",
      "execution_count": null,
      "metadata": {
        "colab": {
          "base_uri": "https://localhost:8080/"
        },
        "id": "ntEyEv8PRY6L",
        "outputId": "5bba1471-5ee6-4929-9065-6c9e143fe76d"
      },
      "outputs": [],
      "source": [
        "# Set the epochs\n",
        "epochs = 50\n",
        "print('\\nFitting:')\n",
        "\n",
        "# Train the model.\n",
        "history = model.fit(train_ds, epochs=epochs, batch_size=1)"
      ]
    },
    {
      "cell_type": "code",
      "execution_count": null,
      "metadata": {
        "colab": {
          "base_uri": "https://localhost:8080/",
          "height": 295
        },
        "id": "GeG0tJ3ZKBEL",
        "outputId": "98d50967-0098-4336-8ae9-18eb2987aecd"
      },
      "outputs": [],
      "source": [
        "plt.plot(history.history['accuracy'])\n",
        "# plt.plot(history.history['val_accuracy'])\n",
        "plt.title('model accuracy')\n",
        "plt.ylabel('accuracy')\n",
        "plt.xlabel('epoch')\n",
        "plt.legend(['train', 'val'], loc='upper left')\n",
        "plt.show()"
      ]
    }
  ],
  "metadata": {
    "accelerator": "GPU",
    "colab": {
      "collapsed_sections": [],
      "name": "MotifCNN-attempt-1.ipynb",
      "provenance": []
    },
    "kernelspec": {
      "display_name": "Python 3",
      "name": "python3"
    },
    "language_info": {
      "codemirror_mode": {
        "name": "ipython",
        "version": 3
      },
      "file_extension": ".py",
      "mimetype": "text/x-python",
      "name": "python",
      "nbconvert_exporter": "python",
      "pygments_lexer": "ipython3",
      "version": "3.8.10"
    }
  },
  "nbformat": 4,
  "nbformat_minor": 0
}
