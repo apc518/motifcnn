{
 "cells": [
  {
   "cell_type": "markdown",
   "id": "47e18d5a",
   "metadata": {},
   "source": [
    "# Motif Example Classifier  \n",
    "A classifier CNN model, trained to classify novel examples of a given motif. "
   ]
  },
  {
   "cell_type": "code",
   "execution_count": 2,
   "id": "8195eba0",
   "metadata": {},
   "outputs": [],
   "source": [
    "import tensorflow as tf\n",
    "from tensorflow import keras\n",
    "import matplotlib.pyplot as plt\n",
    "import numpy as np\n",
    "import os"
   ]
  },
  {
   "cell_type": "markdown",
   "id": "a4f38d93",
   "metadata": {},
   "source": [
    "### GPU Setup "
   ]
  },
  {
   "cell_type": "code",
   "execution_count": 4,
   "id": "e917b17c",
   "metadata": {},
   "outputs": [
    {
     "name": "stdout",
     "output_type": "stream",
     "text": [
      "[PhysicalDevice(name='/physical_device:GPU:0', device_type='GPU')]\n"
     ]
    }
   ],
   "source": [
    "# Check that TensorFlow can see the GPU\n",
    "physical_devices = tf.config.list_physical_devices('GPU')\n",
    "print(physical_devices)"
   ]
  },
  {
   "cell_type": "code",
   "execution_count": 5,
   "id": "1e290250",
   "metadata": {},
   "outputs": [],
   "source": [
    "# Set TensorFlow option to grow GPU memory allocation when required\n",
    "if len(physical_devices) > 0:\n",
    "    tf.config.experimental.set_memory_growth(physical_devices[0], True)"
   ]
  },
  {
   "cell_type": "markdown",
   "id": "db4c3b33",
   "metadata": {},
   "source": [
    "### Data Augmentation\n",
    "\n",
    "Store raw data at `./data/positive` and `./data/negative` and augment in place"
   ]
  },
  {
   "cell_type": "code",
   "execution_count": null,
   "id": "4d2c791b",
   "metadata": {},
   "outputs": [],
   "source": []
  },
  {
   "cell_type": "code",
   "execution_count": null,
   "id": "80ce17c1",
   "metadata": {},
   "outputs": [],
   "source": []
  },
  {
   "cell_type": "markdown",
   "id": "6c9e36f6",
   "metadata": {},
   "source": [
    "### Make Spectrograms\n",
    "\n",
    "Save spectrograms into `./data/train/{class}/{name}` and `./data/test/{class}/{name}`"
   ]
  },
  {
   "cell_type": "code",
   "execution_count": null,
   "id": "b3b61b27",
   "metadata": {},
   "outputs": [],
   "source": []
  },
  {
   "cell_type": "markdown",
   "id": "59f8bd59",
   "metadata": {},
   "source": [
    "### Load Spectograms as Data Set\n",
    "\n",
    "Data lives in `./data/train`"
   ]
  },
  {
   "cell_type": "code",
   "execution_count": null,
   "id": "b7e6d6f8",
   "metadata": {},
   "outputs": [],
   "source": []
  },
  {
   "cell_type": "markdown",
   "id": "1d046e7c",
   "metadata": {},
   "source": [
    "### Build the Model\n",
    "Define the layers using Keras"
   ]
  },
  {
   "cell_type": "code",
   "execution_count": null,
   "id": "d5c668c0",
   "metadata": {},
   "outputs": [],
   "source": []
  },
  {
   "cell_type": "markdown",
   "id": "1d5ca18e",
   "metadata": {},
   "source": [
    "### Train the Model"
   ]
  },
  {
   "cell_type": "code",
   "execution_count": null,
   "id": "5ea0c71a",
   "metadata": {},
   "outputs": [],
   "source": []
  },
  {
   "cell_type": "markdown",
   "id": "bfb98a3d",
   "metadata": {},
   "source": [
    "### Evaluate the Model\n",
    "Run the model throught the test data at `./data/test` and calculate accuracy."
   ]
  },
  {
   "cell_type": "code",
   "execution_count": null,
   "id": "81c57055",
   "metadata": {},
   "outputs": [],
   "source": []
  }
 ],
 "metadata": {
  "kernelspec": {
   "display_name": "Python 3 (ipykernel)",
   "language": "python",
   "name": "python3"
  },
  "language_info": {
   "codemirror_mode": {
    "name": "ipython",
    "version": 3
   },
   "file_extension": ".py",
   "mimetype": "text/x-python",
   "name": "python",
   "nbconvert_exporter": "python",
   "pygments_lexer": "ipython3",
   "version": "3.9.10"
  }
 },
 "nbformat": 4,
 "nbformat_minor": 5
}
