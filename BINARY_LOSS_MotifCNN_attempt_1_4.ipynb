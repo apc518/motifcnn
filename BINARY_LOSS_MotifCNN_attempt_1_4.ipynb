{
  "cells": [
    {
      "cell_type": "markdown",
      "metadata": {
        "id": "3K_HOlVLEGo_"
      },
      "source": [
        "### Load the Data\n",
        "\n",
        "upload a spectrogram data set with file structure \n",
        "\n",
        "spec/positive\n",
        "spec/negative"
      ]
    },
    {
      "cell_type": "code",
      "source": [
        "from google.colab import drive\n",
        "drive.mount('/content/drive')"
      ],
      "metadata": {
        "id": "8ODTWjS4eaw0"
      },
      "execution_count": null,
      "outputs": []
    },
    {
      "cell_type": "code",
      "execution_count": null,
      "metadata": {
        "id": "yIpby2SIBxKn"
      },
      "outputs": [],
      "source": [
        "# # Used to unzip a data set loaded to the drive\n",
        "import zipfile\n",
        "\n",
        "with zipfile.ZipFile(\"/content/drive/MyDrive/MotifGAN Capstone/spec_solo_stretch_shift_dist_noise_4.zip\") as z:\n",
        "  z.extractall()"
      ]
    },
    {
      "cell_type": "code",
      "source": [
        "import os\n",
        "os.mkdir(\"spec\")\n",
        "os.rename(\"negative\", \"spec/negative\")\n",
        "os.rename(\"positive\", \"spec/positive\")"
      ],
      "metadata": {
        "id": "P2uPD80inCu8"
      },
      "execution_count": null,
      "outputs": []
    },
    {
      "cell_type": "code",
      "execution_count": null,
      "metadata": {
        "id": "449xgkbgyQLo"
      },
      "outputs": [],
      "source": [
        "import random\n",
        "import matplotlib.pyplot as plt\n",
        "import matplotlib.image as mpimg\n",
        "\n",
        "pos_img_name = random.choice(os.listdir('./spec/positive'))\n",
        "neg_img_name = random.choice(os.listdir('./spec/negative'))\n",
        "\n",
        "print(pos_img_name)\n",
        "pos_img = mpimg.imread(f'./spec/positive/{pos_img_name}')\n",
        "plt.figure()\n",
        "plt.imshow(pos_img)\n",
        "print(neg_img_name)\n",
        "neg_img = mpimg.imread(f'./spec/negative/{neg_img_name}')\n",
        "plt.figure()\n",
        "plt.imshow(neg_img)"
      ]
    },
    {
      "cell_type": "markdown",
      "metadata": {
        "id": "58b_CBegPXoe"
      },
      "source": [
        "### create the dataset"
      ]
    },
    {
      "cell_type": "code",
      "execution_count": null,
      "metadata": {
        "id": "gxOjlqu9yGNC"
      },
      "outputs": [],
      "source": [
        "import tensorflow as tf"
      ]
    },
    {
      "cell_type": "code",
      "source": [
        "# randomly set aside some examples for validation\n",
        "\n",
        "os.makedirs(\"val/positive\")\n",
        "os.makedirs(\"val/negative\")\n",
        "\n",
        "for category in os.listdir(\"spec\"):\n",
        "  for f in os.listdir(f\"spec/{category}\"):\n",
        "    if random.uniform(0,1) < 0.2:\n",
        "      os.rename(f\"spec/{category}/{f}\", f\"val/{category}/{f}\")"
      ],
      "metadata": {
        "id": "8m6CVgOj4eS9"
      },
      "execution_count": null,
      "outputs": []
    },
    {
      "cell_type": "code",
      "execution_count": null,
      "metadata": {
        "id": "Dyh2MP5rPW1h"
      },
      "outputs": [],
      "source": [
        "# Load dataset from directory with keras\n",
        "\n",
        "# sometimes a directory called .ipynb_checkpoints is present, remove it if so\n",
        "if os.path.isdir('./spec/.ipynb_checkpoints'):\n",
        "  os.removedirs(\"./spec/.ipynb_checkpoints\")\n",
        "\n",
        "train_dir = './spec/'\n",
        "val_dir = './val'\n",
        "BATCH_SIZE = 32\n",
        "\n",
        "train_ds = tf.keras.preprocessing.image_dataset_from_directory(\n",
        "    train_dir,\n",
        "    labels='inferred',\n",
        "    label_mode='int',\n",
        "    batch_size=BATCH_SIZE, \n",
        "    image_size=(100,300),\n",
        "    seed=123\n",
        ")\n",
        "\n",
        "val_ds = tf.keras.preprocessing.image_dataset_from_directory(\n",
        "    val_dir,\n",
        "    labels='inferred',\n",
        "    label_mode='int',\n",
        "    batch_size=BATCH_SIZE, \n",
        "    image_size=(100,300),\n",
        "    seed=123\n",
        ")\n",
        "\n",
        "class_names = train_ds.class_names\n",
        "print(class_names)"
      ]
    },
    {
      "cell_type": "markdown",
      "metadata": {
        "id": "n7aX5O88ENuB"
      },
      "source": [
        "## ResNet-34 Model"
      ]
    },
    {
      "cell_type": "code",
      "execution_count": null,
      "metadata": {
        "id": "EnSRAGeqGymt"
      },
      "outputs": [],
      "source": [
        "from tensorflow import keras"
      ]
    },
    {
      "cell_type": "code",
      "execution_count": null,
      "metadata": {
        "id": "JnppUQh6Ea3Z"
      },
      "outputs": [],
      "source": [
        "class ResidualUnit(keras.layers.Layer):\n",
        "    def __init__(self, filters, strides=1, activation=\"relu\", **kwargs):\n",
        "        super().__init__(**kwargs)\n",
        "        self.activation = keras.activations.get(activation)\n",
        "        self.main_layers = [\n",
        "            keras.layers.Conv2D(filters, 3, strides=strides,\n",
        "                            padding=\"same\", use_bias=False),\n",
        "            keras.layers.BatchNormalization(),\n",
        "            self.activation,\n",
        "            keras.layers.Conv2D(filters, 3, strides=1,\n",
        "                            padding=\"same\", use_bias=False),\n",
        "            keras.layers.BatchNormalization()]\n",
        "        self.skip_layers = []\n",
        "        if strides > 1:\n",
        "            self.skip_layers = [\n",
        "                keras.layers.Conv2D(filters, 1, strides=strides,\n",
        "                                  padding=\"same\", use_bias=False),\n",
        "                keras.layers.BatchNormalization()]\n",
        "\n",
        "    def call(self, inputs):\n",
        "        Z = inputs\n",
        "        for layer in self.main_layers:\n",
        "            Z = layer(Z)\n",
        "        skip_Z = inputs\n",
        "        for layer in self.skip_layers:\n",
        "            skip_Z = layer(skip_Z)\n",
        "        return self.activation(Z + skip_Z)"
      ]
    },
    {
      "cell_type": "code",
      "execution_count": null,
      "metadata": {
        "id": "S_FMNlRAHAX3"
      },
      "outputs": [],
      "source": [
        "model = keras.models.Sequential()\n",
        "model.add(keras.layers.Conv2D(64, 5, strides=2, input_shape=[100, 300, 3],\n",
        "                              padding=\"same\", use_bias=False))\n",
        "model.add(keras.layers.BatchNormalization())\n",
        "model.add(keras.layers.Activation(\"relu\"))\n",
        "model.add(keras.layers.MaxPool2D(pool_size=3, strides=2, padding=\"same\"))\n",
        "prev_filter = 64\n",
        "for filters in [64]*3 + [128] * 4 + [256] * 6 + [512] * 3:\n",
        "    strides = 1 if filters == prev_filter else 2\n",
        "    model.add(ResidualUnit(filters, strides=strides))\n",
        "    prev_filters = filters\n",
        "#model.add(keras.layers.GlobalAvgPool2D())\n",
        "model.add(keras.layers.Flatten())\n",
        "model.add(keras.layers.Dense(1, activation=\"sigmoid\"))"
      ]
    },
    {
      "cell_type": "code",
      "execution_count": null,
      "metadata": {
        "id": "dZAJuIhhIw95"
      },
      "outputs": [],
      "source": [
        "learning_rate = 0.002\n",
        "\n",
        "loss_fn = tf.keras.losses.BinaryCrossentropy(from_logits=False)\n",
        "optimizer = tf.keras.optimizers.Adam(learning_rate, beta_1=0.93)\n",
        "metrics = ['acc']\n",
        "model.compile(optimizer, loss_fn, metrics)\n",
        "#model.summary()"
      ]
    },
    {
      "cell_type": "code",
      "execution_count": null,
      "metadata": {
        "id": "ntEyEv8PRY6L"
      },
      "outputs": [],
      "source": [
        "# Set the epochs\n",
        "epochs = 9\n",
        "print('\\nFitting:')\n",
        "\n",
        "# Train the model.\n",
        "history = model.fit(train_ds, validation_data=val_ds, epochs=epochs, batch_size=BATCH_SIZE)"
      ]
    },
    {
      "cell_type": "code",
      "execution_count": null,
      "metadata": {
        "id": "GeG0tJ3ZKBEL"
      },
      "outputs": [],
      "source": [
        "# print(history.history.keys())\n",
        "plt.plot(history.history['acc'])\n",
        "plt.plot(history.history['val_acc'])\n",
        "plt.title('model accuracy')\n",
        "plt.ylabel('accuracy')\n",
        "plt.xlabel('epoch')\n",
        "plt.legend(['train', 'val'], loc='upper left')\n",
        "plt.show()"
      ]
    },
    {
      "cell_type": "code",
      "source": [
        "model_name = f\"motifcnn_902_4_{epochs}ep_{learning_rate}lr.tf\"\n",
        "model.save(model_name)\n",
        "model_name"
      ],
      "metadata": {
        "id": "CDkN23PqiUpt"
      },
      "execution_count": null,
      "outputs": []
    },
    {
      "cell_type": "code",
      "source": [
        "import shutil\n",
        "shutil.make_archive(model_name, \"zip\", model_name)"
      ],
      "metadata": {
        "id": "JD69LcttioyA"
      },
      "execution_count": null,
      "outputs": []
    },
    {
      "cell_type": "code",
      "source": [
        "!cp -r \"motifcnn_902_4_11ep_0.01lr.tf.zip\" \"drive/MyDrive/MotifGAN Capstone/motifcnn_902_4_11ep_0.01lr.tf.zip\""
      ],
      "metadata": {
        "id": "YgvsdhSii_zo"
      },
      "execution_count": null,
      "outputs": []
    },
    {
      "cell_type": "code",
      "source": [
        ""
      ],
      "metadata": {
        "id": "Dk2HWMQExL66"
      },
      "execution_count": null,
      "outputs": []
    }
  ],
  "metadata": {
    "accelerator": "GPU",
    "colab": {
      "collapsed_sections": [],
      "name": "BINARY_LOSS_MotifCNN_attempt_1-4.ipynb",
      "provenance": []
    },
    "kernelspec": {
      "display_name": "Python 3",
      "name": "python3"
    },
    "language_info": {
      "codemirror_mode": {
        "name": "ipython",
        "version": 3
      },
      "file_extension": ".py",
      "mimetype": "text/x-python",
      "name": "python",
      "nbconvert_exporter": "python",
      "pygments_lexer": "ipython3",
      "version": "3.8.10"
    }
  },
  "nbformat": 4,
  "nbformat_minor": 0
}