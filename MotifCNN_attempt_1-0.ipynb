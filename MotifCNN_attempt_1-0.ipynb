{
 "cells": [
  {
   "cell_type": "markdown",
   "id": "47e18d5a",
   "metadata": {},
   "source": [
    "# Motif Example Classifier  \n",
    "A classifier CNN model, trained to classify novel examples of a given motif. "
   ]
  },
  {
   "cell_type": "code",
   "execution_count": null,
   "id": "8195eba0",
   "metadata": {},
   "outputs": [],
   "source": [
    "import tensorflow as tf\n",
    "from tensorflow import keras\n",
    "import matplotlib.pyplot as plt\n",
    "import numpy as np\n",
    "import os"
   ]
  },
  {
   "cell_type": "markdown",
   "id": "a4f38d93",
   "metadata": {},
   "source": [
    "### GPU Setup "
   ]
  },
  {
   "cell_type": "code",
   "execution_count": null,
   "id": "e917b17c",
   "metadata": {},
   "outputs": [],
   "source": [
    "# Check that TensorFlow can see the GPU\n",
    "physical_devices = tf.config.list_physical_devices('GPU')\n",
    "print(physical_devices)"
   ]
  },
  {
   "cell_type": "code",
   "execution_count": null,
   "id": "1e290250",
   "metadata": {},
   "outputs": [],
   "source": [
    "# Set TensorFlow option to grow GPU memory allocation when required\n",
    "if len(physical_devices) > 0:\n",
    "    tf.config.experimental.set_memory_growth(physical_devices[0], True)"
   ]
  },
  {
   "cell_type": "markdown",
   "id": "db4c3b33",
   "metadata": {},
   "source": [
    "### Data Augmentation\n",
    "\n",
    "Store raw data at `./data/positive` and `./data/negative` and augment in place"
   ]
  },
  {
   "cell_type": "markdown",
   "id": "6c9e36f6",
   "metadata": {},
   "source": [
    "### Make Spectrograms\n",
    "\n",
    "Save spectrograms into `./data/train/{class}/{name}` and `./data/test/{class}/{name}`"
   ]
  },
  {
   "cell_type": "markdown",
   "id": "59f8bd59",
   "metadata": {},
   "source": [
    "### Load Spectrograms as Data Set\n",
    "\n",
    "Data lives in `./data/train`"
   ]
  },
  {
   "cell_type": "code",
   "execution_count": null,
   "id": "72a199ef",
   "metadata": {},
   "outputs": [],
   "source": [
    "# Sort spectrograms into directories\n",
    "# Use if loading directory of spectrograms\n",
    "\n",
    "import os\n",
    "import shutil\n",
    "val_split = 8\n",
    "\n",
    "for index, item in enumerate(os.listdir(\"./spec/negative/\")):\n",
    "    if index % val_split == 0: shutil.move(\"./spec/negative/\" + item, \"./test_data/negative/\" + item)\n",
    "    else: shutil.move(\"./spec/negative/\" + item, \"./train_data/negative/\" + item)\n",
    "\n",
    "for index, item in enumerate(os.listdir(\"./spec/positive/\")):\n",
    "    if index % val_split == 0: shutil.move(\"./spec/positive/\" + item, \"./test_data/positive/\" + item)\n",
    "    else: shutil.move(\"./spec/positive/\" + item, \"./train_data/positive/\" + item)\n",
    "        "
   ]
  },
  {
   "cell_type": "code",
   "execution_count": null,
   "id": "b7e6d6f8",
   "metadata": {},
   "outputs": [],
   "source": [
    "train_directory = './train_data/'\n",
    "test_directory = './test_data/'\n",
    "image_size = (360,225) ## Specify the size of the spectrogram images\n",
    "\n",
    "# Build the train dataset\n",
    "train_ds = tf.keras.preprocessing.image_dataset_from_directory(\n",
    "    train_directory, labels='inferred', label_mode='int', image_size=image_size, seed=123)\n",
    "\n",
    "# Build the test dataset\n",
    "test_ds = tf.keras.preprocessing.image_dataset_from_directory(\n",
    "    test_directory, labels='inferred', label_mode='int', image_size=image_size, seed=123)\n",
    "\n",
    "\n",
    "class_names = train_ds.class_names\n",
    "print(class_names)"
   ]
  },
  {
   "cell_type": "code",
   "execution_count": null,
   "id": "c73a4c18",
   "metadata": {},
   "outputs": [],
   "source": [
    "# Straight from the microsoft tutorial \n",
    "# shows the spectrograms with their labels\n",
    "plt.figure(figsize=(10, 10))\n",
    "for images, labels in train_ds.take(2):\n",
    "    for i in range(9):\n",
    "        ax = plt.subplot(3, 5, i + 1)\n",
    "        plt.imshow(images[i].numpy().astype(\"uint8\"))\n",
    "        plt.title(class_names[labels[i]])\n",
    "        plt.axis(\"off\")"
   ]
  },
  {
   "cell_type": "markdown",
   "id": "1d046e7c",
   "metadata": {},
   "source": [
    "### Build the Model\n",
    "Define the layers using Keras"
   ]
  },
  {
   "cell_type": "code",
   "execution_count": null,
   "id": "d5c668c0",
   "metadata": {},
   "outputs": [],
   "source": [
    "class ResidualUnit(keras.layers.Layer):\n",
    "    def __init__(self, filters, strides=1, activation=\"relu\", **kwargs):\n",
    "        super().__init__(**kwargs)\n",
    "        self.activation = keras.activations.get(activation)\n",
    "        self.main_layers = [\n",
    "            keras.layers.Conv2D(filters, 3, strides=strides,\n",
    "                            padding=\"same\", use_bias=False),\n",
    "            keras.layers.BatchNormalization(),\n",
    "            self.activation,\n",
    "            keras.layers.Conv2D(filters, 3, strides=1,\n",
    "                            padding=\"same\", use_bias=False),\n",
    "            keras.layers.BatchNormalization()]\n",
    "        self.skip_layers = []\n",
    "        if strides > 1:\n",
    "            self.skip_layers = [\n",
    "                keras.layers.Conv2D(filters, 1, strides=strides,\n",
    "                                  padding=\"same\", use_bias=False),\n",
    "                keras.layers.BatchNormalization()]\n",
    "\n",
    "    def call(self, inputs):\n",
    "        Z = inputs\n",
    "        for layer in self.main_layers:\n",
    "            Z = layer(Z)\n",
    "        skip_Z = inputs\n",
    "        for layer in self.skip_layers:\n",
    "            skip_Z = layer(skip_Z)\n",
    "        return self.activation(Z + skip_Z)"
   ]
  },
  {
   "cell_type": "code",
   "execution_count": null,
   "id": "f837b58b",
   "metadata": {},
   "outputs": [],
   "source": [
    "model = keras.models.Sequential()\n",
    "model.add(keras.layers.Conv2D(64, 7, strides=2, input_shape=[360, 225, 3],\n",
    "                              padding=\"same\", use_bias=False))\n",
    "model.add(keras.layers.BatchNormalization())\n",
    "model.add(keras.layers.Activation(\"relu\"))\n",
    "model.add(keras.layers.MaxPool2D(pool_size=3, strides=2, padding=\"same\"))\n",
    "prev_filter = 64\n",
    "for filters in [64]*3 + [128] * 4 + [256] * 6 + [512] * 3:\n",
    "    strides = 1 if filters == prev_filter else 2\n",
    "    model.add(ResidualUnit(filters, strides=strides))\n",
    "    prev_filters = filters\n",
    "model.add(keras.layers.GlobalAvgPool2D())\n",
    "model.add(keras.layers.Flatten())\n",
    "model.add(keras.layers.Dense(2, activation=\"softmax\"))"
   ]
  },
  {
   "cell_type": "code",
   "execution_count": null,
   "id": "35f85b8f",
   "metadata": {},
   "outputs": [],
   "source": [
    "learning_rate = 0.02\n",
    "\n",
    "loss_fn = tf.keras.losses.SparseCategoricalCrossentropy(from_logits=False)\n",
    "optimizer = tf.keras.optimizers.SGD(learning_rate)\n",
    "metrics = ['acc']\n",
    "model.compile(optimizer, loss_fn, metrics)\n",
    "model.summary()"
   ]
  },
  {
   "cell_type": "code",
   "execution_count": null,
   "id": "97742433",
   "metadata": {},
   "outputs": [],
   "source": [
    "# Set the epochs\n",
    "epochs = 5\n",
    "print('\\nFitting:')\n",
    "\n",
    "# Train the model.\n",
    "history = model.fit(train_ds, validation_data=test_ds, epochs=epochs, batch_size=16)"
   ]
  },
  {
   "cell_type": "markdown",
   "id": "1d5ca18e",
   "metadata": {},
   "source": [
    "### Train the Model"
   ]
  },
  {
   "cell_type": "code",
   "execution_count": null,
   "id": "5ea0c71a",
   "metadata": {},
   "outputs": [],
   "source": [
    "model.save(\"./model.tf\")"
   ]
  },
  {
   "cell_type": "markdown",
   "id": "bfb98a3d",
   "metadata": {},
   "source": [
    "### Evaluate the Model\n",
    "Run the model throught the test data at `./data/test` and calculate accuracy."
   ]
  }
 ],
 "metadata": {
  "kernelspec": {
   "display_name": "Python 3 (ipykernel)",
   "language": "python",
   "name": "python3"
  },
  "language_info": {
   "codemirror_mode": {
    "name": "ipython",
    "version": 3
   },
   "file_extension": ".py",
   "mimetype": "text/x-python",
   "name": "python",
   "nbconvert_exporter": "python",
   "pygments_lexer": "ipython3",
   "version": "3.9.10"
  }
 },
 "nbformat": 4,
 "nbformat_minor": 5
}
